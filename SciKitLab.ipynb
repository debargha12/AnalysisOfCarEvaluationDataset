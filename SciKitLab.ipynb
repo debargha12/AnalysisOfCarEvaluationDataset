{
  "nbformat": 4,
  "nbformat_minor": 0,
  "metadata": {
    "colab": {
      "name": "SciKitLab.ipynb",
      "provenance": [],
      "collapsed_sections": [],
      "include_colab_link": true
    },
    "kernelspec": {
      "name": "python3",
      "display_name": "Python 3"
    }
  },
  "cells": [
    {
      "cell_type": "markdown",
      "metadata": {
        "id": "view-in-github",
        "colab_type": "text"
      },
      "source": [
        "<a href=\"https://colab.research.google.com/github/debargha12/DecisionTreeOnCarEvaluationDataset/blob/master/SciKitLab.ipynb\" target=\"_parent\"><img src=\"https://colab.research.google.com/assets/colab-badge.svg\" alt=\"Open In Colab\"/></a>"
      ]
    },
    {
      "cell_type": "code",
      "metadata": {
        "id": "Hdol78w_dToJ",
        "colab_type": "code",
        "outputId": "9eb13740-905d-4485-9cce-6aac3959eae2",
        "colab": {
          "base_uri": "https://localhost:8080/",
          "height": 175
        }
      },
      "source": [
        "!pip install -U imbalanced-learn\n",
        "\n",
        "!git clone --recursive https://github.com/dmlc/xgboost\n",
        "\n",
        "!pip3 install xgboost\n",
        "\n",
        "from sklearn.model_selection import train_test_split\n",
        "from sklearn.model_selection import GridSearchCV\n",
        "from sklearn.neural_network import MLPClassifier\n",
        "from sklearn.svm import SVC\n",
        "from sklearn.tree import DecisionTreeClassifier\n",
        "from sklearn.naive_bayes import GaussianNB\n",
        "from sklearn.linear_model import LogisticRegression\n",
        "from sklearn.neighbors import KNeighborsClassifier\n",
        "from sklearn.ensemble import BaggingClassifier\n",
        "from sklearn.ensemble import RandomForestClassifier, AdaBoostClassifier, GradientBoostingClassifier\n",
        "import xgboost as xgb\n",
        "from xgboost import XGBClassifier\n",
        "import pandas as pd\n",
        "from sklearn import preprocessing\n",
        "from sklearn.metrics import classification_report\n",
        "from imblearn.over_sampling import SMOTE\n"
      ],
      "execution_count": 0,
      "outputs": [
        {
          "output_type": "stream",
          "text": [
            "Requirement already up-to-date: imbalanced-learn in /usr/local/lib/python3.6/dist-packages (0.5.0)\n",
            "Requirement already satisfied, skipping upgrade: scikit-learn>=0.21 in /usr/local/lib/python3.6/dist-packages (from imbalanced-learn) (0.21.3)\n",
            "Requirement already satisfied, skipping upgrade: scipy>=0.17 in /usr/local/lib/python3.6/dist-packages (from imbalanced-learn) (1.3.1)\n",
            "Requirement already satisfied, skipping upgrade: joblib>=0.11 in /usr/local/lib/python3.6/dist-packages (from imbalanced-learn) (0.14.0)\n",
            "Requirement already satisfied, skipping upgrade: numpy>=1.11 in /usr/local/lib/python3.6/dist-packages (from imbalanced-learn) (1.17.3)\n",
            "fatal: destination path 'xgboost' already exists and is not an empty directory.\n",
            "Requirement already satisfied: xgboost in /usr/local/lib/python3.6/dist-packages (0.90)\n",
            "Requirement already satisfied: scipy in /usr/local/lib/python3.6/dist-packages (from xgboost) (1.3.1)\n",
            "Requirement already satisfied: numpy in /usr/local/lib/python3.6/dist-packages (from xgboost) (1.17.3)\n"
          ],
          "name": "stdout"
        }
      ]
    },
    {
      "cell_type": "code",
      "metadata": {
        "id": "BgLwRzQeeCL0",
        "colab_type": "code",
        "outputId": "55200193-068a-48e1-9d03-8fe1696924a1",
        "colab": {
          "base_uri": "https://localhost:8080/",
          "height": 667
        }
      },
      "source": [
        "df = pd.read_csv('https://archive.ics.uci.edu/ml/machine-learning-databases/liver-disorders/bupa.data', header=None, delimiter=',', names=['mcv','alkphos','sgpt','sgot','gammagt','drinks','selector'])\n",
        "print(df.shape)\n",
        "print(df.head(20))\n",
        "pd.value_counts(df['selector']).plot.bar()"
      ],
      "execution_count": 0,
      "outputs": [
        {
          "output_type": "stream",
          "text": [
            "(345, 7)\n",
            "    mcv  alkphos  sgpt  sgot  gammagt  drinks  selector\n",
            "0    85       92    45    27       31     0.0         1\n",
            "1    85       64    59    32       23     0.0         2\n",
            "2    86       54    33    16       54     0.0         2\n",
            "3    91       78    34    24       36     0.0         2\n",
            "4    87       70    12    28       10     0.0         2\n",
            "5    98       55    13    17       17     0.0         2\n",
            "6    88       62    20    17        9     0.5         1\n",
            "7    88       67    21    11       11     0.5         1\n",
            "8    92       54    22    20        7     0.5         1\n",
            "9    90       60    25    19        5     0.5         1\n",
            "10   89       52    13    24       15     0.5         1\n",
            "11   82       62    17    17       15     0.5         1\n",
            "12   90       64    61    32       13     0.5         1\n",
            "13   86       77    25    19       18     0.5         1\n",
            "14   96       67    29    20       11     0.5         1\n",
            "15   91       78    20    31       18     0.5         1\n",
            "16   89       67    23    16       10     0.5         1\n",
            "17   89       79    17    17       16     0.5         1\n",
            "18   91      107    20    20       56     0.5         1\n",
            "19   94      116    11    33       11     0.5         1\n"
          ],
          "name": "stdout"
        },
        {
          "output_type": "execute_result",
          "data": {
            "text/plain": [
              "<matplotlib.axes._subplots.AxesSubplot at 0x7f1ebebe4be0>"
            ]
          },
          "metadata": {
            "tags": []
          },
          "execution_count": 209
        },
        {
          "output_type": "display_data",
          "data": {
            "image/png": "[encoded data removed]",
            "text/plain": [
              "<Figure size 432x288 with 1 Axes>"
            ]
          },
          "metadata": {
            "tags": []
          }
        }
      ]
    },
    {
      "cell_type": "code",
      "metadata": {
        "id": "5MfT7O6XeQNx",
        "colab_type": "code",
        "colab": {}
      },
      "source": [
        "x = df.drop(columns=['selector'])\n",
        "le = preprocessing.LabelEncoder()\n",
        "y = df['selector'].copy()\n",
        "le.fit(y)\n",
        "y=le.transform(y)\n",
        "x_train, x_test, y_train, y_test = train_test_split(x, y, test_size=0.5, random_state=0)\n",
        "scaler = preprocessing.MinMaxScaler().fit(x_train)\n",
        "x_train=scaler.transform(x_train) \n",
        "x_test=scaler.transform(x_test)\n",
        "\n",
        "\n"
      ],
      "execution_count": 0,
      "outputs": []
    },
    {
      "cell_type": "code",
      "metadata": {
        "id": "9Eai5XBheeG6",
        "colab_type": "code",
        "colab": {}
      },
      "source": [
        "#initializations \n",
        "names = [ \"SVM\",\"Decision Tree\", \"Neural Net\", \"Gaussian Naive Bayes\", \"Logistic Regression\", \"k-Nearest Neighbors\",\n",
        "         \"Bagging\", \"Random Forest\", \"AdaBoost \", \"Gradient Boosting \", \"XGBoost \"]\n",
        "avg_Precision=[]\n",
        "avg_recall=[]\n",
        "avg_F1_score=[]\n",
        "accuracy_list = []\n",
        "best_parameters=[]"
      ],
      "execution_count": 0,
      "outputs": []
    },
    {
      "cell_type": "code",
      "metadata": {
        "id": "PDii9Hmwh0Nr",
        "colab_type": "code",
        "outputId": "8f6ae66d-810e-4da9-b2b4-bc70f57c6e81",
        "colab": {
          "base_uri": "https://localhost:8080/",
          "height": 143
        }
      },
      "source": [
        "# SVM\n",
        "tuned_parameters = [{'kernel': ['rbf','linear','sigmoid'], 'gamma': [1e-2,1e-3, 1e-4,0.1], 'C': [1, 10,50, 100, 1000],'max_iter' :[-1, 10,100],'random_state':[None,2,20],'degree':[3,5,7]}]\n",
        "            \n",
        "clf = GridSearchCV(SVC(), tuned_parameters, cv=5,\n",
        "                    scoring='accuracy' )\n",
        "clf.fit(x_train, y_train)\n",
        "\n",
        "print(\"Best parameters set found on development set:\")\n",
        "print()\n",
        "print(clf.best_params_)\n",
        "best_parameters.append(clf.best_params_)\n",
        "print()\n",
        "print(\"Detailed classification report:\")\n",
        "\n",
        "y_true, y_pred = y_test, clf.predict(x_test)\n",
        "results=classification_report(y_true, y_pred,output_dict=True)\n",
        "avg_Precision.append(results['macro avg']['precision'])\n",
        "avg_recall.append(results['macro avg']['recall'])\n",
        "avg_F1_score.append(results['macro avg']['f1-score'])\n",
        "accuracy_list.append(results['accuracy'])\n",
        "print(results)"
      ],
      "execution_count": 0,
      "outputs": [
        {
          "output_type": "stream",
          "text": [
            "Best parameters set found on development set:\n",
            "\n",
            "{'C': 50, 'degree': 3, 'gamma': 0.01, 'kernel': 'linear', 'max_iter': -1, 'random_state': None}\n",
            "\n",
            "Detailed classification report:\n",
            "{'0': {'precision': 0.676923076923077, 'recall': 0.5866666666666667, 'f1-score': 0.6285714285714286, 'support': 75}, '1': {'precision': 0.7129629629629629, 'recall': 0.7857142857142857, 'f1-score': 0.7475728155339806, 'support': 98}, 'accuracy': 0.6994219653179191, 'macro avg': {'precision': 0.69494301994302, 'recall': 0.6861904761904762, 'f1-score': 0.6880721220527046, 'support': 173}, 'weighted avg': {'precision': 0.6973387349109893, 'recall': 0.6994219653179191, 'f1-score': 0.6959826188739147, 'support': 173}}\n"
          ],
          "name": "stdout"
        }
      ]
    },
    {
      "cell_type": "code",
      "metadata": {
        "id": "bdVJvNvTiPGH",
        "colab_type": "code",
        "outputId": "fe662c4f-08b9-44a6-bc58-35aaa45f9300",
        "colab": {
          "base_uri": "https://localhost:8080/",
          "height": 143
        }
      },
      "source": [
        "# Decision Tree\n",
        "tuned_parameters = { 'max_depth':[None,6,10,12,14],'min_samples_split':[0.1,0.2,0.4,0.6], 'min_samples_leaf':[1,2,3,4], 'min_weight_fraction_leaf':[0.0,0.2,0.3,0.4]}    \n",
        "\n",
        "clf = GridSearchCV(DecisionTreeClassifier(), tuned_parameters, cv=5,\n",
        "                    scoring='accuracy' )\n",
        "clf.fit(x_train, y_train)\n",
        "\n",
        "print(\"Best parameters set found on development set:\")\n",
        "print()\n",
        "print(clf.best_params_)\n",
        "best_parameters.append(clf.best_params_)\n",
        "print()\n",
        "print(\"Detailed classification report:\")\n",
        "\n",
        "y_true, y_pred = y_test, clf.predict(x_test)\n",
        "results=classification_report(y_true, y_pred,output_dict=True)\n",
        "avg_Precision.append(results['macro avg']['precision'])\n",
        "avg_recall.append(results['macro avg']['recall'])\n",
        "avg_F1_score.append(results['macro avg']['f1-score'])\n",
        "accuracy_list.append(results['accuracy'])\n",
        "print(results)"
      ],
      "execution_count": 0,
      "outputs": [
        {
          "output_type": "stream",
          "text": [
            "Best parameters set found on development set:\n",
            "\n",
            "{'max_depth': None, 'min_samples_leaf': 1, 'min_samples_split': 0.1, 'min_weight_fraction_leaf': 0.2}\n",
            "\n",
            "Detailed classification report:\n",
            "{'0': {'precision': 0.78125, 'recall': 0.3333333333333333, 'f1-score': 0.46728971962616817, 'support': 75}, '1': {'precision': 0.6453900709219859, 'recall': 0.9285714285714286, 'f1-score': 0.7615062761506277, 'support': 98}, 'accuracy': 0.6705202312138728, 'macro avg': {'precision': 0.713320035460993, 'recall': 0.6309523809523809, 'f1-score': 0.614397997888398, 'support': 173}, 'weighted avg': {'precision': 0.704288884106096, 'recall': 0.6705202312138728, 'f1-score': 0.6339557458654574, 'support': 173}}\n"
          ],
          "name": "stdout"
        }
      ]
    },
    {
      "cell_type": "code",
      "metadata": {
        "id": "AecPTu_K4c4A",
        "colab_type": "code",
        "outputId": "dffda5e0-d856-40fa-a8b7-1903b86be210",
        "colab": {
          "base_uri": "https://localhost:8080/",
          "height": 143
        }
      },
      "source": [
        "# Neural Network\n",
        "tuned_parameters =  {'hidden_layer_sizes':[(10,9),(3,2,4)],'activation' : ['identity', 'logistic', 'tanh', 'relu'],\n",
        "                     'learning_rate' : ['adaptive','constant', 'invscaling'],'early_stopping':[True,False],'learning_rate_init': [0.1,0.001,0.13,0.2,0.15]}\n",
        "              \n",
        "\n",
        "clf = GridSearchCV(MLPClassifier(), tuned_parameters, cv=5,\n",
        "                    scoring='accuracy' )\n",
        "clf.fit(x_train, y_train)\n",
        "\n",
        "print(\"Best parameters set found on development set:\")\n",
        "print()\n",
        "print(clf.best_params_)\n",
        "best_parameters.append(clf.best_params_)\n",
        "print()\n",
        "print(\"Detailed classification report:\")\n",
        "\n",
        "y_true, y_pred = y_test, clf.predict(x_test)\n",
        "results=classification_report(y_true, y_pred,output_dict=True)\n",
        "avg_Precision.append(results['macro avg']['precision'])\n",
        "avg_recall.append(results['macro avg']['recall'])\n",
        "avg_F1_score.append(results['macro avg']['f1-score'])\n",
        "accuracy_list.append(results['accuracy'])\n",
        "print(results)"
      ],
      "execution_count": 0,
      "outputs": [
        {
          "output_type": "stream",
          "text": [
            "Best parameters set found on development set:\n",
            "\n",
            "{'activation': 'identity', 'early_stopping': False, 'hidden_layer_sizes': (10, 9), 'learning_rate': 'constant', 'learning_rate_init': 0.1}\n",
            "\n",
            "Detailed classification report:\n",
            "{'0': {'precision': 0.6197183098591549, 'recall': 0.5866666666666667, 'f1-score': 0.6027397260273973, 'support': 75}, '1': {'precision': 0.696078431372549, 'recall': 0.7244897959183674, 'f1-score': 0.71, 'support': 98}, 'accuracy': 0.6647398843930635, 'macro avg': {'precision': 0.6578983706158519, 'recall': 0.655578231292517, 'f1-score': 0.6563698630136987, 'support': 173}, 'weighted avg': {'precision': 0.6629743324505574, 'recall': 0.6647398843930635, 'f1-score': 0.6634998812257503, 'support': 173}}\n"
          ],
          "name": "stdout"
        }
      ]
    },
    {
      "cell_type": "code",
      "metadata": {
        "id": "2BhluzUr4ns1",
        "colab_type": "code",
        "outputId": "c998db2a-9a5b-4755-9b1c-0bab78bb028a",
        "colab": {
          "base_uri": "https://localhost:8080/",
          "height": 143
        }
      },
      "source": [
        "# Gaussian Naive Bayes\n",
        "tuned_parameters =  {'priors':[None,[0.2,0.8],[0.1,0.9],[0.15,0.85],[0.18,0.82]]}\n",
        "              \n",
        "\n",
        "clf = GridSearchCV(GaussianNB(), tuned_parameters, cv=5,\n",
        "                    scoring='accuracy' )\n",
        "clf.fit(x_train, y_train)\n",
        "\n",
        "print(\"Best parameters set found on development set:\")\n",
        "print()\n",
        "print(clf.best_params_)\n",
        "best_parameters.append(clf.best_params_)\n",
        "print()\n",
        "print(\"Detailed classification report:\")\n",
        "\n",
        "y_true, y_pred = y_test, clf.predict(x_test)\n",
        "results=classification_report(y_true, y_pred,output_dict=True)\n",
        "avg_Precision.append(results['macro avg']['precision'])\n",
        "avg_recall.append(results['macro avg']['recall'])\n",
        "avg_F1_score.append(results['macro avg']['f1-score'])\n",
        "accuracy_list.append(results['accuracy'])\n",
        "print(results)"
      ],
      "execution_count": 0,
      "outputs": [
        {
          "output_type": "stream",
          "text": [
            "Best parameters set found on development set:\n",
            "\n",
            "{'priors': [0.1, 0.9]}\n",
            "\n",
            "Detailed classification report:\n",
            "{'0': {'precision': 1.0, 'recall': 0.013333333333333334, 'f1-score': 0.02631578947368421, 'support': 75}, '1': {'precision': 0.5697674418604651, 'recall': 1.0, 'f1-score': 0.7259259259259259, 'support': 98}, 'accuracy': 0.5722543352601156, 'macro avg': {'precision': 0.7848837209302326, 'recall': 0.5066666666666667, 'f1-score': 0.376120857699805, 'support': 173}, 'weighted avg': {'precision': 0.756284446834252, 'recall': 0.5722543352601156, 'f1-score': 0.42262673382235294, 'support': 173}}\n"
          ],
          "name": "stdout"
        }
      ]
    },
    {
      "cell_type": "code",
      "metadata": {
        "id": "OwpRT5fA4y-c",
        "colab_type": "code",
        "outputId": "d7856e58-c99b-4e5f-c45e-f13827806ef4",
        "colab": {
          "base_uri": "https://localhost:8080/",
          "height": 143
        }
      },
      "source": [
        "#Logistic Regression\n",
        "tuned_parameters =  {'penalty':['l1','l2'],'tol':[1e-4,1e-3,1e-5,1e-2],'C':[1,10,100],'fit_intercept':[True,False]}\n",
        "      \n",
        "\n",
        "clf = GridSearchCV(LogisticRegression(), tuned_parameters, cv=5,\n",
        "                    scoring='accuracy' )\n",
        "clf.fit(x_train, y_train)\n",
        "\n",
        "print(\"Best parameters set found on development set:\")\n",
        "print()\n",
        "print(clf.best_params_)\n",
        "best_parameters.append(clf.best_params_)\n",
        "print()\n",
        "print(\"Detailed classification report:\")\n",
        "\n",
        "y_true, y_pred = y_test, clf.predict(x_test)\n",
        "results=classification_report(y_true, y_pred,output_dict=True)\n",
        "avg_Precision.append(results['macro avg']['precision'])\n",
        "avg_recall.append(results['macro avg']['recall'])\n",
        "avg_F1_score.append(results['macro avg']['f1-score'])\n",
        "accuracy_list.append(results['accuracy'])\n",
        "print(results)"
      ],
      "execution_count": 0,
      "outputs": [
        {
          "output_type": "stream",
          "text": [
            "Best parameters set found on development set:\n",
            "\n",
            "{'C': 100, 'fit_intercept': True, 'penalty': 'l1', 'tol': 0.0001}\n",
            "\n",
            "Detailed classification report:\n",
            "{'0': {'precision': 0.6515151515151515, 'recall': 0.5733333333333334, 'f1-score': 0.6099290780141844, 'support': 75}, '1': {'precision': 0.7009345794392523, 'recall': 0.7653061224489796, 'f1-score': 0.7317073170731707, 'support': 98}, 'accuracy': 0.6820809248554913, 'macro avg': {'precision': 0.6762248654772018, 'recall': 0.6693197278911565, 'f1-score': 0.6708181975436776, 'support': 173}, 'weighted avg': {'precision': 0.6795099719577057, 'recall': 0.6820809248554913, 'f1-score': 0.6789132827990436, 'support': 173}}\n"
          ],
          "name": "stdout"
        }
      ]
    },
    {
      "cell_type": "code",
      "metadata": {
        "id": "JUiRR05Q8oyu",
        "colab_type": "code",
        "outputId": "64bf33cf-5990-404a-e5ac-6e5df0ef0aaa",
        "colab": {
          "base_uri": "https://localhost:8080/",
          "height": 143
        }
      },
      "source": [
        "# k-Nearest Neighbors\n",
        "\n",
        "tuned_parameters =  {'n_neighbors':[3,4,5],'weights':['uniform','distance'],'algorithm':['auto', 'ball_tree', 'kd_tree', 'brute'],'p':[1,2,3], 'n_jobs':[1]}\n",
        "      \n",
        "\n",
        "clf = GridSearchCV(KNeighborsClassifier(), tuned_parameters, cv=5,\n",
        "                    scoring='accuracy' )\n",
        "clf.fit(x_train, y_train)\n",
        "\n",
        "print(\"Best parameters set found on development set:\")\n",
        "print()\n",
        "print(clf.best_params_)\n",
        "best_parameters.append(clf.best_params_)\n",
        "print()\n",
        "print(\"Detailed classification report:\")\n",
        "\n",
        "y_true, y_pred = y_test, clf.predict(x_test)\n",
        "results=classification_report(y_true, y_pred,output_dict=True)\n",
        "avg_Precision.append(results['macro avg']['precision'])\n",
        "avg_recall.append(results['macro avg']['recall'])\n",
        "avg_F1_score.append(results['macro avg']['f1-score'])\n",
        "accuracy_list.append(results['accuracy'])\n",
        "print(results)"
      ],
      "execution_count": 0,
      "outputs": [
        {
          "output_type": "stream",
          "text": [
            "Best parameters set found on development set:\n",
            "\n",
            "{'algorithm': 'auto', 'n_jobs': 1, 'n_neighbors': 3, 'p': 1, 'weights': 'distance'}\n",
            "\n",
            "Detailed classification report:\n",
            "{'0': {'precision': 0.5915492957746479, 'recall': 0.56, 'f1-score': 0.5753424657534246, 'support': 75}, '1': {'precision': 0.6764705882352942, 'recall': 0.7040816326530612, 'f1-score': 0.69, 'support': 98}, 'accuracy': 0.6416184971098265, 'macro avg': {'precision': 0.634009942004971, 'recall': 0.6320408163265306, 'f1-score': 0.6326712328767123, 'support': 173}, 'weighted avg': {'precision': 0.639654999018251, 'recall': 0.6416184971098265, 'f1-score': 0.6402929764826985, 'support': 173}}\n"
          ],
          "name": "stdout"
        }
      ]
    },
    {
      "cell_type": "code",
      "metadata": {
        "id": "yU9a7b1D8ueO",
        "colab_type": "code",
        "outputId": "2dfc2984-9d2f-4c7f-92a0-9b54847768e0",
        "colab": {
          "base_uri": "https://localhost:8080/",
          "height": 178
        }
      },
      "source": [
        "# Bagging\n",
        "tuned_parameters =  {'base_estimator':[DecisionTreeClassifier(),KNeighborsClassifier(n_neighbors=1)],'n_estimators':[5,10]\n",
        "                     ,'max_samples':[0.5,1,2],'max_features':[0.5,1,2],'random_state':[0,20,45],'bootstrap':[True,False]}\n",
        "\n",
        "\n",
        "clf = GridSearchCV(BaggingClassifier(), tuned_parameters, cv=5,\n",
        "                    scoring='accuracy' )\n",
        "clf.fit(x_train, y_train)\n",
        "\n",
        "print(\"Best parameters set found on development set:\")\n",
        "print()\n",
        "print(clf.best_params_)\n",
        "best_parameters.append(clf.best_params_)\n",
        "print()\n",
        "print(\"Detailed classification report:\")\n",
        "\n",
        "y_true, y_pred = y_test, clf.predict(x_test)\n",
        "results=classification_report(y_true, y_pred,output_dict=True)\n",
        "avg_Precision.append(results['macro avg']['precision'])\n",
        "avg_recall.append(results['macro avg']['recall'])\n",
        "avg_F1_score.append(results['macro avg']['f1-score'])\n",
        "accuracy_list.append(results['accuracy'])\n",
        "print(results)\n"
      ],
      "execution_count": 0,
      "outputs": [
        {
          "output_type": "stream",
          "text": [
            "Best parameters set found on development set:\n",
            "\n",
            "{'base_estimator': KNeighborsClassifier(algorithm='auto', leaf_size=30, metric='minkowski',\n",
            "                     metric_params=None, n_jobs=None, n_neighbors=1, p=2,\n",
            "                     weights='uniform'), 'bootstrap': True, 'max_features': 1, 'max_samples': 0.5, 'n_estimators': 5, 'random_state': 0}\n",
            "\n",
            "Detailed classification report:\n",
            "{'0': {'precision': 0.45454545454545453, 'recall': 0.4666666666666667, 'f1-score': 0.46052631578947373, 'support': 75}, '1': {'precision': 0.5833333333333334, 'recall': 0.5714285714285714, 'f1-score': 0.577319587628866, 'support': 98}, 'accuracy': 0.5260115606936416, 'macro avg': {'precision': 0.5189393939393939, 'recall': 0.519047619047619, 'f1-score': 0.5189229517091699, 'support': 173}, 'weighted avg': {'precision': 0.5275004379050622, 'recall': 0.5260115606936416, 'f1-score': 0.5266866663112104, 'support': 173}}\n"
          ],
          "name": "stdout"
        }
      ]
    },
    {
      "cell_type": "code",
      "metadata": {
        "id": "ZMH8CmHj8ypd",
        "colab_type": "code",
        "outputId": "8e73581c-4a4b-4444-d1c8-60b6653b83a9",
        "colab": {
          "base_uri": "https://localhost:8080/",
          "height": 143
        }
      },
      "source": [
        "# Random Forest\n",
        "\n",
        "tuned_parameters =  {'n_estimators':[10,50,100,200],'max_depth':[None,5,7,10]\n",
        "                     ,'criterion':['gini', 'entropy'],'max_features':[0.5,1,2]}\n",
        "\n",
        "\n",
        "\n",
        "clf = GridSearchCV(RandomForestClassifier(), tuned_parameters, cv=5,\n",
        "                    scoring='accuracy' )\n",
        "clf.fit(x_train, y_train)\n",
        "\n",
        "print(\"Best parameters set found on development set:\")\n",
        "print()\n",
        "print(clf.best_params_)\n",
        "best_parameters.append(clf.best_params_)\n",
        "print()\n",
        "print(\"Detailed classification report:\")\n",
        "\n",
        "y_true, y_pred = y_test, clf.predict(x_test)\n",
        "results=classification_report(y_true, y_pred,output_dict=True)\n",
        "avg_Precision.append(results['macro avg']['precision'])\n",
        "avg_recall.append(results['macro avg']['recall'])\n",
        "avg_F1_score.append(results['macro avg']['f1-score'])\n",
        "accuracy_list.append(results['accuracy'])\n",
        "print(results)"
      ],
      "execution_count": 0,
      "outputs": [
        {
          "output_type": "stream",
          "text": [
            "Best parameters set found on development set:\n",
            "\n",
            "{'criterion': 'entropy', 'max_depth': 5, 'max_features': 1, 'n_estimators': 10}\n",
            "\n",
            "Detailed classification report:\n",
            "{'0': {'precision': 0.7083333333333334, 'recall': 0.4533333333333333, 'f1-score': 0.5528455284552846, 'support': 75}, '1': {'precision': 0.672, 'recall': 0.8571428571428571, 'f1-score': 0.7533632286995515, 'support': 98}, 'accuracy': 0.6820809248554913, 'macro avg': {'precision': 0.6901666666666667, 'recall': 0.6552380952380952, 'f1-score': 0.653104378577418, 'support': 173}, 'weighted avg': {'precision': 0.6877514450867053, 'recall': 0.6820809248554913, 'f1-score': 0.6664335898653317, 'support': 173}}\n"
          ],
          "name": "stdout"
        }
      ]
    },
    {
      "cell_type": "code",
      "metadata": {
        "id": "LyU1-1nP84LU",
        "colab_type": "code",
        "outputId": "2450c43f-cfe5-4a06-8e4e-b74e620ad686",
        "colab": {
          "base_uri": "https://localhost:8080/",
          "height": 143
        }
      },
      "source": [
        "# AdaBoost Classifier\n",
        "\n",
        "tuned_parameters =  {'n_estimators':[10,50,100],'learning_rate':[0.1,0.2,0.4]\n",
        "                     ,'algorithm':['SAMME', 'SAMME.R'],'random_state':[5,15,20]}\n",
        "\n",
        "clf = GridSearchCV(AdaBoostClassifier(), tuned_parameters, cv=5,\n",
        "                    scoring='accuracy' )\n",
        "clf.fit(x_train, y_train)\n",
        "\n",
        "print(\"Best parameters set found on development set:\")\n",
        "print()\n",
        "print(clf.best_params_)\n",
        "best_parameters.append(clf.best_params_)\n",
        "print()\n",
        "print(\"Detailed classification report:\")\n",
        "\n",
        "y_true, y_pred = y_test, clf.predict(x_test)\n",
        "results=classification_report(y_true, y_pred,output_dict=True)\n",
        "avg_Precision.append(results['macro avg']['precision'])\n",
        "avg_recall.append(results['macro avg']['recall'])\n",
        "avg_F1_score.append(results['macro avg']['f1-score'])\n",
        "accuracy_list.append(results['accuracy'])\n",
        "print(results)"
      ],
      "execution_count": 0,
      "outputs": [
        {
          "output_type": "stream",
          "text": [
            "Best parameters set found on development set:\n",
            "\n",
            "{'algorithm': 'SAMME.R', 'learning_rate': 0.1, 'n_estimators': 100, 'random_state': 5}\n",
            "\n",
            "Detailed classification report:\n",
            "{'0': {'precision': 0.6181818181818182, 'recall': 0.4533333333333333, 'f1-score': 0.5230769230769231, 'support': 75}, '1': {'precision': 0.652542372881356, 'recall': 0.7857142857142857, 'f1-score': 0.7129629629629629, 'support': 98}, 'accuracy': 0.6416184971098265, 'macro avg': {'precision': 0.6353620955315871, 'recall': 0.6195238095238095, 'f1-score': 0.618019943019943, 'support': 173}, 'weighted avg': {'precision': 0.6376461786474523, 'recall': 0.6416184971098265, 'f1-score': 0.6306424254401133, 'support': 173}}\n"
          ],
          "name": "stdout"
        }
      ]
    },
    {
      "cell_type": "code",
      "metadata": {
        "id": "A2_TT3PE88-M",
        "colab_type": "code",
        "outputId": "ede62254-d1f6-4643-b688-3798bc0011aa",
        "colab": {
          "base_uri": "https://localhost:8080/",
          "height": 143
        }
      },
      "source": [
        "# GradientBoostingClassifier\n",
        "\n",
        "tuned_parameters =  {'n_estimators':[10,50,80,100],'learning_rate':[0.1,0.2,0.4,0.7]\n",
        "                     ,'min_impurity_decrease':[0,0.5,1],'max_depth':[3,5,15,20]}\n",
        "\n",
        "\n",
        "clf = GridSearchCV(GradientBoostingClassifier(), tuned_parameters, cv=5,\n",
        "                    scoring='accuracy' )\n",
        "clf.fit(x_train, y_train)\n",
        "\n",
        "print(\"Best parameters set found on development set:\")\n",
        "print()\n",
        "print(clf.best_params_)\n",
        "best_parameters.append(clf.best_params_)\n",
        "print()\n",
        "print(\"Detailed classification report:\")\n",
        "\n",
        "y_true, y_pred = y_test, clf.predict(x_test)\n",
        "results=classification_report(y_true, y_pred,output_dict=True)\n",
        "avg_Precision.append(results['macro avg']['precision'])\n",
        "avg_recall.append(results['macro avg']['recall'])\n",
        "avg_F1_score.append(results['macro avg']['f1-score'])\n",
        "accuracy_list.append(results['accuracy'])\n",
        "print(results)"
      ],
      "execution_count": 0,
      "outputs": [
        {
          "output_type": "stream",
          "text": [
            "Best parameters set found on development set:\n",
            "\n",
            "{'learning_rate': 0.4, 'max_depth': 3, 'min_impurity_decrease': 0, 'n_estimators': 100}\n",
            "\n",
            "Detailed classification report:\n",
            "{'0': {'precision': 0.5857142857142857, 'recall': 0.5466666666666666, 'f1-score': 0.5655172413793104, 'support': 75}, '1': {'precision': 0.6699029126213593, 'recall': 0.7040816326530612, 'f1-score': 0.6865671641791046, 'support': 98}, 'accuracy': 0.6358381502890174, 'macro avg': {'precision': 0.6278085991678225, 'recall': 0.6253741496598639, 'f1-score': 0.6260422027792074, 'support': 173}, 'weighted avg': {'precision': 0.6334049529795643, 'recall': 0.6358381502890174, 'f1-score': 0.63408887394798, 'support': 173}}\n"
          ],
          "name": "stdout"
        }
      ]
    },
    {
      "cell_type": "code",
      "metadata": {
        "id": "0Ma82b9v9C8i",
        "colab_type": "code",
        "outputId": "2e6d7809-3462-463c-a127-ebf0fcf75b80",
        "colab": {
          "base_uri": "https://localhost:8080/",
          "height": 143
        }
      },
      "source": [
        "# XGBoost\n",
        "tuned_parameters =  {'n_estimators':[10,50,100,150],'learning_rate':[0.001,0.1,0.2,0.4]\n",
        "                     ,'booster':['gbtree','gblinear','dart'],'max_delta_step':[0,0.01,0.02]}\n",
        "\n",
        "\n",
        "clf = GridSearchCV(XGBClassifier(), tuned_parameters, cv=5,\n",
        "                    scoring='accuracy' )\n",
        "clf.fit(x_train, y_train)\n",
        "\n",
        "print(\"Best parameters set found on development set:\")\n",
        "print()\n",
        "print(clf.best_params_)\n",
        "best_parameters.append(clf.best_params_)\n",
        "print()\n",
        "print(\"Detailed classification report:\")\n",
        "\n",
        "y_true, y_pred = y_test, clf.predict(x_test)\n",
        "results=classification_report(y_true, y_pred,output_dict=True)\n",
        "avg_Precision.append(results['macro avg']['precision'])\n",
        "avg_recall.append(results['macro avg']['recall'])\n",
        "avg_F1_score.append(results['macro avg']['f1-score'])\n",
        "accuracy_list.append(results['accuracy'])\n",
        "print(results)"
      ],
      "execution_count": 0,
      "outputs": [
        {
          "output_type": "stream",
          "text": [
            "Best parameters set found on development set:\n",
            "\n",
            "{'booster': 'gbtree', 'learning_rate': 0.1, 'max_delta_step': 0, 'n_estimators': 50}\n",
            "\n",
            "Detailed classification report:\n",
            "{'0': {'precision': 0.7450980392156863, 'recall': 0.5066666666666667, 'f1-score': 0.6031746031746031, 'support': 75}, '1': {'precision': 0.6967213114754098, 'recall': 0.8673469387755102, 'f1-score': 0.7727272727272727, 'support': 98}, 'accuracy': 0.7109826589595376, 'macro avg': {'precision': 0.7209096753455481, 'recall': 0.6870068027210885, 'f1-score': 0.6879509379509379, 'support': 173}, 'weighted avg': {'precision': 0.7176938813050094, 'recall': 0.7109826589595376, 'f1-score': 0.6992217801466356, 'support': 173}}\n"
          ],
          "name": "stdout"
        }
      ]
    },
    {
      "cell_type": "code",
      "metadata": {
        "id": "JH0g9fV09Hbf",
        "colab_type": "code",
        "outputId": "fb7715e2-09b7-43ee-e4a0-0a69fecb729c",
        "colab": {
          "base_uri": "https://localhost:8080/",
          "height": 228
        }
      },
      "source": [
        "#output\n",
        "\n",
        "d={'Algorithm':names, 'Best Parameters':best_parameters, 'Avg Precision':avg_Precision,\n",
        "   'Avg Recall': avg_recall, 'Avg F1': avg_F1_score, 'Accuracy':accuracy_list}\n",
        "output=pd.DataFrame(data=d)\n",
        "output.style.set_properties(**{'background-color': 'white',\n",
        "                           'color': 'black'})\n",
        "print(output.to_string())\n",
        "\n"
      ],
      "execution_count": 0,
      "outputs": [
        {
          "output_type": "stream",
          "text": [
            "               Algorithm                                    Best Parameters  Avg Precision  Avg Recall    Avg F1  Accuracy\n",
            "0                    SVM  {'C': 50, 'degree': 3, 'gamma': 0.01, 'kernel'...       0.694943    0.686190  0.688072  0.699422\n",
            "1          Decision Tree  {'max_depth': None, 'min_samples_leaf': 1, 'mi...       0.713320    0.630952  0.614398  0.670520\n",
            "2             Neural Net  {'activation': 'identity', 'early_stopping': F...       0.657898    0.655578  0.656370  0.664740\n",
            "3   Gaussian Naive Bayes                             {'priors': [0.1, 0.9]}       0.784884    0.506667  0.376121  0.572254\n",
            "4    Logistic Regression  {'C': 100, 'fit_intercept': True, 'penalty': '...       0.676225    0.669320  0.670818  0.682081\n",
            "5    k-Nearest Neighbors  {'algorithm': 'auto', 'n_jobs': 1, 'n_neighbor...       0.634010    0.632041  0.632671  0.641618\n",
            "6                Bagging  {'base_estimator': KNeighborsClassifier(algori...       0.518939    0.519048  0.518923  0.526012\n",
            "7          Random Forest  {'criterion': 'entropy', 'max_depth': 5, 'max_...       0.690167    0.655238  0.653104  0.682081\n",
            "8              AdaBoost   {'algorithm': 'SAMME.R', 'learning_rate': 0.1,...       0.635362    0.619524  0.618020  0.641618\n",
            "9     Gradient Boosting   {'learning_rate': 0.4, 'max_depth': 3, 'min_im...       0.627809    0.625374  0.626042  0.635838\n",
            "10              XGBoost   {'booster': 'gbtree', 'learning_rate': 0.1, 'm...       0.720910    0.687007  0.687951  0.710983\n"
          ],
          "name": "stdout"
        }
      ]
    },
    {
      "cell_type": "code",
      "metadata": {
        "id": "LzSPODuR9Lsj",
        "colab_type": "code",
        "colab": {}
      },
      "source": [
        ""
      ],
      "execution_count": 0,
      "outputs": []
    }
  ]
}